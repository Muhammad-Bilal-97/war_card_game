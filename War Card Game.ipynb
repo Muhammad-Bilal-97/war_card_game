{
 "cells": [
  {
   "cell_type": "code",
   "execution_count": null,
   "id": "8393995d",
   "metadata": {},
   "outputs": [],
   "source": [
    "from random import shuffle\n",
    "\n",
    "SUITE = 'H D S C'.split()\n",
    "RANKS = '2 3 4 5 6 7 8 9 10 J Q L A'.split()\n",
    "\n",
    "\n",
    "class Deck:\n",
    "    \n",
    "    def __init__(self):\n",
    "        print(\"Creating New Ordered Deck\")\n",
    "        self.allcards = [(s, r) for s in SUITE for r in RANKS]\n",
    "        \n",
    "    \n",
    "    def shuffle(self):\n",
    "        print(\"Shuffling deck\")\n",
    "        shuffle(self.allcards)\n",
    "        \n",
    "    def split_in_half(self):\n",
    "        return (self.allcards[:26], self.allcards[26:])\n",
    "        \n",
    "    \n",
    "    \n",
    "class Hand:\n",
    "    \n",
    "    def __init__(self, cards):\n",
    "        self.cards = cards\n",
    "    \n",
    "    def __str__(self):\n",
    "        return \"Contains {} cards\".format(len(self.cards))\n",
    "        \n",
    "    def add(self, added_cards):\n",
    "        self.cards.extend(added_cards)\n",
    "        \n",
    "        \n",
    "    def remove_card(self):\n",
    "        return self.cards.pop()\n",
    "        \n",
    "        \n",
    "class Player:\n",
    "    \n",
    "    def __init__(self, name, hand):\n",
    "    \n",
    "        self.name = name\n",
    "        self.hand = hand\n",
    "    \n",
    "    \n",
    "    def play_card(self):\n",
    "        drawn_card = self.hand.remove_card()\n",
    "        print(\"{} has placed: {}\". format(self.name, drawn_card))\n",
    "        print('\\n')\n",
    "        return drawn_card\n",
    "    \n",
    "        \n",
    "    def remove_war_cards(self):\n",
    "        war_cards = []\n",
    "        if len(self.hand.cards) < 3:\n",
    "            return war_cards\n",
    "        else:\n",
    "            for x in range(3):\n",
    "                war_cards.append(self.hand.cards.pop(0))\n",
    "                \n",
    "        return war_cards\n",
    "        \n",
    "    def still_has_cards(self):\n",
    "        return len(self.hand.cards) != 0\n",
    "    "
   ]
  },
  {
   "cell_type": "markdown",
   "id": "18710e92",
   "metadata": {},
   "source": [
    "# Game Play"
   ]
  },
  {
   "cell_type": "code",
   "execution_count": null,
   "id": "428aedf4",
   "metadata": {},
   "outputs": [],
   "source": [
    "print(\"Welcome to war card game....\")\n",
    "\n",
    "d = Deck()\n",
    "d.shuffle()\n",
    "half1, half2 = d.split_in_half()"
   ]
  },
  {
   "cell_type": "code",
   "execution_count": null,
   "id": "0ce8b950",
   "metadata": {},
   "outputs": [],
   "source": [
    "half1"
   ]
  },
  {
   "cell_type": "code",
   "execution_count": null,
   "id": "32c5ad1c",
   "metadata": {},
   "outputs": [],
   "source": [
    "half2"
   ]
  },
  {
   "cell_type": "code",
   "execution_count": null,
   "id": "9dbb4e1f",
   "metadata": {},
   "outputs": [],
   "source": [
    "comp = Player(\"Computer\", Hand(half1))\n",
    "name = input(\"Input your name: \")\n",
    "\n",
    "user = Player(name, Hand(half2))"
   ]
  },
  {
   "cell_type": "code",
   "execution_count": null,
   "id": "9395f33a",
   "metadata": {},
   "outputs": [],
   "source": [
    "total_rounds = 0\n",
    "war_count = 0"
   ]
  },
  {
   "cell_type": "markdown",
   "id": "f737fde6",
   "metadata": {},
   "source": [
    "# Game Begin"
   ]
  },
  {
   "cell_type": "code",
   "execution_count": null,
   "id": "bd8b6867",
   "metadata": {},
   "outputs": [],
   "source": [
    "while user.still_has_cards() and comp.still_has_cards():\n",
    "    total_rounds += 1\n",
    "    \n",
    "    print('It is time for a new round')\n",
    "    print('These are the current standings')\n",
    "    print(user.name + \" count: \" + str(len(user.hand.cards)))\n",
    "    print(comp.name + \" count: \" + str(len(comp.hand.cards)))\n",
    "    \n",
    "    print('Both players play a card!')\n",
    "    print('\\n')\n",
    "    \n",
    "    table_cards = []\n",
    "    c_card = comp.play_card()\n",
    "    p_card = user.play_card()\n",
    "    \n",
    "    table_cards.append(c_card)\n",
    "    table_cards.append(p_card)\n",
    "    \n",
    "    if c_card[1] == p_card[1]:\n",
    "        war_count += 1\n",
    "        \n",
    "        print('We have match its time for a war')\n",
    "        print('Each player removes 3 cards face down and one card face up')\n",
    "        \n",
    "        table_cards.extend(user.remove_war_cards())\n",
    "        table_cards.extend(comp.remove_war_cards())\n",
    "        \n",
    "        c_card = comp.play_card()\n",
    "        p_card = user.play_card()\n",
    "        \n",
    "        table_cards.append(c_card)\n",
    "        table_cards.append(p_card)\n",
    "        \n",
    "        if RANKS.index (c_card[1]) < RANKS.index(p_card[1]):\n",
    "            print(user.name + ' has the higher card adding to the hand')\n",
    "            user.hand.add(table_cards)\n",
    "            \n",
    "        else:\n",
    "            print(comp.name + ' has the higher card adding to the hand')\n",
    "            comp.hand.add(table_cards)\n",
    "            \n",
    "    else:\n",
    "        if RANKS.index (c_card[1]) < RANKS.index(p_card[1]):\n",
    "            print(user.name + ' has the higher card adding to the hand')\n",
    "            user.hand.add(table_cards)\n",
    "            \n",
    "        else:\n",
    "            print(comp.name + ' has the higher card adding to the hand')\n",
    "            comp.hand.add(table_cards)\n",
    "            \n",
    "            \n",
    "print('total rounds: ' + str(total_rounds))\n",
    "print('war counts:' + str(war_count))"
   ]
  },
  {
   "cell_type": "code",
   "execution_count": null,
   "id": "90822fc4",
   "metadata": {},
   "outputs": [],
   "source": []
  }
 ],
 "metadata": {
  "kernelspec": {
   "display_name": "Python 3 (ipykernel)",
   "language": "python",
   "name": "python3"
  },
  "language_info": {
   "codemirror_mode": {
    "name": "ipython",
    "version": 3
   },
   "file_extension": ".py",
   "mimetype": "text/x-python",
   "name": "python",
   "nbconvert_exporter": "python",
   "pygments_lexer": "ipython3",
   "version": "3.9.7"
  }
 },
 "nbformat": 4,
 "nbformat_minor": 5
}
